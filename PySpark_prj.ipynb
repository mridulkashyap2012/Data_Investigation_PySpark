{
 "cells": [
  {
   "cell_type": "markdown",
   "id": "52200f99",
   "metadata": {},
   "source": [
    "# Setting-Up the environment"
   ]
  },
  {
   "cell_type": "code",
   "execution_count": 2,
   "id": "2ca3d4c5",
   "metadata": {},
   "outputs": [],
   "source": [
    "import pyspark"
   ]
  },
  {
   "cell_type": "code",
   "execution_count": 3,
   "id": "1beb1297",
   "metadata": {},
   "outputs": [],
   "source": [
    "from pyspark import StorageLevel\n",
    "from pyspark.sql import SparkSession\n",
    "from pyspark.sql.functions import *\n",
    "from pyspark.sql.types import *"
   ]
  },
  {
   "cell_type": "code",
   "execution_count": 4,
   "id": "9189337a",
   "metadata": {},
   "outputs": [],
   "source": [
    "spark= SparkSession.builder.appName('Practice_prj').getOrCreate()"
   ]
  },
  {
   "cell_type": "markdown",
   "id": "7c80dad0",
   "metadata": {},
   "source": [
    "# Extracting and Cleaning the Dataset"
   ]
  },
  {
   "cell_type": "markdown",
   "id": "0f3492f0",
   "metadata": {},
   "source": [
    "Since some of the app names have a double quotation mark, we should indicate to spark.read.csv that this character has to be escaped. This is to be done in order to get rid of one extra column perceived by spark.read.csv."
   ]
  },
  {
   "cell_type": "markdown",
   "id": "456d590d",
   "metadata": {},
   "source": [
    "### Extraction of the concerned Dataset"
   ]
  },
  {
   "cell_type": "code",
   "execution_count": 5,
   "id": "b100c699",
   "metadata": {},
   "outputs": [],
   "source": [
    "df_pyspark= spark.read.csv(\"googlePS.csv\", header=True, sep=',', escape='\"', inferSchema=True)"
   ]
  },
  {
   "cell_type": "markdown",
   "id": "00bca9af",
   "metadata": {},
   "source": [
    "Just to check, if the entries are correctly loaded or not."
   ]
  },
  {
   "cell_type": "code",
   "execution_count": 6,
   "id": "67f80fe3",
   "metadata": {},
   "outputs": [
    {
     "name": "stdout",
     "output_type": "stream",
     "text": [
      "+------------------------------------------------------+\n",
      "|App                                                   |\n",
      "+------------------------------------------------------+\n",
      "|Eat Fast Prepare \"Without Internet\"                   |\n",
      "|Yanosik: \"antyradar\", traffic jams, navigation, camera|\n",
      "|Alphabet \"H\" Passcode Lock Screen                     |\n",
      "|Official QR Code® Reader \"Q\"                          |\n",
      "|Women\"s Health Tips(Breast,Face,Body,weight lose)     |\n",
      "|\"i DT\" Fútbol. Todos Somos Técnicos.                  |\n",
      "|The FN \"Baby\" pistol explained                        |\n",
      "+------------------------------------------------------+\n",
      "\n"
     ]
    }
   ],
   "source": [
    "df_pyspark.select(\"App\").where(\"App like '%\\\"%'\").show(truncate=False)"
   ]
  },
  {
   "cell_type": "markdown",
   "id": "9ad26b50",
   "metadata": {},
   "source": [
    "### Cleaning of our Dataset"
   ]
  },
  {
   "cell_type": "code",
   "execution_count": 7,
   "id": "cd909977",
   "metadata": {},
   "outputs": [
    {
     "name": "stdout",
     "output_type": "stream",
     "text": [
      "+--------------------+--------------+------+-------+----+--------+----+-----+--------------+------------+---------------+---------------+---------------+\n",
      "|                 App|      Category|Rating|Reviews|Size|Installs|Type|Price|Content Rating|      Genres|   Last Updated|Current Version|Android Version|\n",
      "+--------------------+--------------+------+-------+----+--------+----+-----+--------------+------------+---------------+---------------+---------------+\n",
      "|Photo Editor & Ca...|ART_AND_DESIGN|   4.1|    159| 19M| 10,000+|Free|    0|      Everyone|Art & Design|January 7, 2018|          1.0.0|   4.0.3 and up|\n",
      "+--------------------+--------------+------+-------+----+--------+----+-----+--------------+------------+---------------+---------------+---------------+\n",
      "only showing top 1 row\n",
      "\n"
     ]
    }
   ],
   "source": [
    "df_pyspark.show(1)"
   ]
  },
  {
   "cell_type": "code",
   "execution_count": 8,
   "id": "56a7c822",
   "metadata": {},
   "outputs": [
    {
     "name": "stdout",
     "output_type": "stream",
     "text": [
      "root\n",
      " |-- App: string (nullable = true)\n",
      " |-- Category: string (nullable = true)\n",
      " |-- Rating: double (nullable = true)\n",
      " |-- Reviews: string (nullable = true)\n",
      " |-- Size: string (nullable = true)\n",
      " |-- Installs: string (nullable = true)\n",
      " |-- Type: string (nullable = true)\n",
      " |-- Price: string (nullable = true)\n",
      " |-- Content Rating: string (nullable = true)\n",
      " |-- Genres: string (nullable = true)\n",
      " |-- Last Updated: string (nullable = true)\n",
      " |-- Current Version: string (nullable = true)\n",
      " |-- Android Version: string (nullable = true)\n",
      "\n"
     ]
    }
   ],
   "source": [
    "df_pyspark.printSchema()"
   ]
  },
  {
   "cell_type": "markdown",
   "id": "12cfeb09",
   "metadata": {},
   "source": [
    "For this analysis, we don't need all the columns but only a few of them, so let's start by dropping unwanted columns and altering their datatypes therafter."
   ]
  },
  {
   "cell_type": "code",
   "execution_count": 6,
   "id": "3e7a7017",
   "metadata": {},
   "outputs": [],
   "source": [
    "# Drop unwanted columns\n",
    "df_spark = df_pyspark.drop(\"category\", \"size\", \"type\", \"content rating\")"
   ]
  },
  {
   "cell_type": "markdown",
   "id": "a90cd531",
   "metadata": {},
   "source": [
    "Now we are going to focus on the following points\n",
    "\n",
    "1. Column renaming: Removing spaces.\n",
    "2. Rating: Cast to Double.\n",
    "2. Installs: Apply regexp to remove unwanted characters and cast to Integer.\n",
    "3. Price: Apply regexp to remove unwanted characters and cast to Double.\n",
    "4. Last updated: Cast to Date."
   ]
  },
  {
   "cell_type": "code",
   "execution_count": 7,
   "id": "d2cf1ca4",
   "metadata": {},
   "outputs": [],
   "source": [
    "df_spark = df_spark.withColumnRenamed(\"Android Version\", \"Android_Version\") \\\n",
    "    .withColumnRenamed(\"Current Version\", \"Current_Version\") \\\n",
    "    .withColumnRenamed(\"Last Updated\", \"last_updated\") \\\n",
    "    .withColumn(\"Rating\", col(\"Rating\").cast(DoubleType())) \\\n",
    "    .withColumn(\"Reviews\", col(\"Reviews\").cast(IntegerType())) \\\n",
    "    .withColumn(\"Installs\", regexp_replace(col(\"Installs\"), \"[^0-9]\", \"\")) \\\n",
    "    .withColumn(\"Installs\", col(\"Installs\").cast(IntegerType())) \\\n",
    "    .withColumn(\"Price\", regexp_replace(col(\"Price\"), \"[$]\", \"\")) \\\n",
    "    .withColumn(\"Price\", col(\"Price\").cast(DoubleType())) \\\n",
    "    .withColumn(\"last_updated\", to_date('last_updated', 'MMM d, yyyy'))"
   ]
  },
  {
   "cell_type": "code",
   "execution_count": 8,
   "id": "850cb4c9",
   "metadata": {},
   "outputs": [],
   "source": [
    "# Filling/replacing NULL values with 0 in \"Price\" Column\n",
    "df_spark = df_spark.fillna(0, \"price\")"
   ]
  },
  {
   "cell_type": "markdown",
   "id": "6db7a704",
   "metadata": {},
   "source": [
    "datatypes being altered and after cleaning actions, the schema looks like this."
   ]
  },
  {
   "cell_type": "code",
   "execution_count": 12,
   "id": "fb1f33bd",
   "metadata": {},
   "outputs": [
    {
     "name": "stdout",
     "output_type": "stream",
     "text": [
      "root\n",
      " |-- App: string (nullable = true)\n",
      " |-- Rating: double (nullable = true)\n",
      " |-- Reviews: integer (nullable = true)\n",
      " |-- Installs: integer (nullable = true)\n",
      " |-- Price: double (nullable = false)\n",
      " |-- Genres: string (nullable = true)\n",
      " |-- last_updated: date (nullable = true)\n",
      " |-- Current_Version: string (nullable = true)\n",
      " |-- Android_Version: string (nullable = true)\n",
      "\n"
     ]
    }
   ],
   "source": [
    "df_spark.printSchema()"
   ]
  },
  {
   "cell_type": "markdown",
   "id": "d9af7c53",
   "metadata": {},
   "source": [
    "Just to allign the date format of this version of pyspark with the updated one and to avoid the parser problem, spark.conf.set() should be used before show statement."
   ]
  },
  {
   "cell_type": "code",
   "execution_count": 9,
   "id": "3550bc07",
   "metadata": {
    "scrolled": true
   },
   "outputs": [
    {
     "name": "stdout",
     "output_type": "stream",
     "text": [
      "+--------------------+------+-------+--------+-----+--------------------+------------+------------------+---------------+\n",
      "|                 App|Rating|Reviews|Installs|Price|              Genres|last_updated|   Current_Version|Android_Version|\n",
      "+--------------------+------+-------+--------+-----+--------------------+------------+------------------+---------------+\n",
      "|Photo Editor & Ca...|   4.1|    159|   10000|  0.0|        Art & Design|  2018-01-07|             1.0.0|   4.0.3 and up|\n",
      "| Coloring book moana|   3.9|    967|  500000|  0.0|Art & Design;Pret...|  2018-01-15|             2.0.0|   4.0.3 and up|\n",
      "|U Launcher Lite –...|   4.7|  87510| 5000000|  0.0|        Art & Design|  2018-08-01|             1.2.4|   4.0.3 and up|\n",
      "|Sketch - Draw & P...|   4.5| 215644|50000000|  0.0|        Art & Design|  2018-06-08|Varies with device|     4.2 and up|\n",
      "+--------------------+------+-------+--------+-----+--------------------+------------+------------------+---------------+\n",
      "only showing top 4 rows\n",
      "\n"
     ]
    }
   ],
   "source": [
    "spark.conf.set(\"spark.sql.legacy.timeParserPolicy\", \"LEGACY\")\n",
    "df_spark.show(4)"
   ]
  },
  {
   "cell_type": "markdown",
   "id": "50e4881c",
   "metadata": {},
   "source": [
    "#### Removing duplicate records:\n",
    "According to the information that Kaggle shows about the dataset, there are 9660 unique values. Let's verify"
   ]
  },
  {
   "cell_type": "code",
   "execution_count": 10,
   "id": "11d68398",
   "metadata": {},
   "outputs": [],
   "source": [
    "#Create temporal variable dataset, for executing SQL statements\n",
    "df_spark.createOrReplaceTempView(\"df\")"
   ]
  },
  {
   "cell_type": "code",
   "execution_count": 11,
   "id": "052d8229",
   "metadata": {},
   "outputs": [
    {
     "name": "stdout",
     "output_type": "stream",
     "text": [
      "+--------------------+------+-------+---------+--------------------+-----+------------------+---+\n",
      "|                 App|Rating|Reviews| Installs|              Genres|Price|   Android_Version|rep|\n",
      "+--------------------+------+-------+---------+--------------------+-----+------------------+---+\n",
      "|Quizlet: Learn La...|   4.6| 211856| 10000000|           Education|  0.0|Varies with device|  4|\n",
      "|           WatchESPN|   4.1| 288809| 10000000|              Sports|  0.0|        4.4 and up|  4|\n",
      "|eBay: Buy & Sell ...|   4.4|2788923|100000000|            Shopping|  0.0|Varies with device|  4|\n",
      "|                Nick|   4.2| 123279| 10000000|Entertainment;Mus...|  0.0|        4.4 and up|  4|\n",
      "|CBS Sports App - ...|   4.3|  91031|  5000000|              Sports|  0.0|        5.0 and up|  4|\n",
      "|          Skyscanner|   4.5| 481546| 10000000|      Travel & Local|  0.0|        4.4 and up|  4|\n",
      "|         Google Keep|   4.4| 691474|100000000|        Productivity|  0.0|Varies with device|  4|\n",
      "|Extreme Coupon Fi...|   4.1|  11798|  1000000|            Shopping|  0.0|Varies with device|  3|\n",
      "|            BBC News|   4.3| 296781| 10000000|    News & Magazines|  0.0|Varies with device|  3|\n",
      "|Crackle - Free TV...|   3.7| 388089| 10000000|       Entertainment|  0.0|Varies with device|  3|\n",
      "|CBS Sports App - ...|   4.3|  91033|  5000000|              Sports|  0.0|        5.0 and up|  3|\n",
      "|join.me - Simple ...|   4.0|   6989|  1000000|            Business|  0.0|        4.4 and up|  3|\n",
      "|  Camera for Android|   4.2| 240475| 10000000|         Photography|  0.0|        4.0 and up|  3|\n",
      "|Expedia Hotels, F...|   4.1| 136626| 10000000|      Travel & Local|  0.0|        5.0 and up|  3|\n",
      "| Free Blood Pressure|   NaN|      7|     5000|             Medical|  0.0|      4.0.3 and up|  3|\n",
      "|HBO NOW: Stream T...|   3.9|  61201| 10000000|       Entertainment|  0.0|Varies with device|  3|\n",
      "|Elmo Calls by Ses...|   3.9|   6903|  1000000|Educational;Prete...|  0.0|        2.3 and up|  3|\n",
      "|Rosetta Stone: Le...|   4.5| 172508|  5000000| Education;Education|  0.0|        5.0 and up|  3|\n",
      "|               STARZ|   4.3|  88185| 10000000|       Entertainment|  0.0|Varies with device|  3|\n",
      "|JackThreads: Men'...|   4.0|  13085|  1000000|            Shopping|  0.0|      4.0.3 and up|  3|\n",
      "+--------------------+------+-------+---------+--------------------+-----+------------------+---+\n",
      "only showing top 20 rows\n",
      "\n"
     ]
    }
   ],
   "source": [
    "# repeated apps\n",
    "spark.sql(\"\"\"\n",
    "SELECT App, Rating, Reviews, Installs, Genres, Price, Android_Version, count(*) rep\n",
    "FROM df\n",
    "GROUP BY App, Rating, Reviews, Installs, Genres, Price, Android_Version\n",
    "HAVING count(*) > 1\n",
    "ORDER BY rep DESC\n",
    "\"\"\").show()\n"
   ]
  },
  {
   "cell_type": "markdown",
   "id": "90027919",
   "metadata": {},
   "source": [
    "In the following example we can see one specific app with almost identical rows, the only difference is in the number of reviews and version (both current_ver and last_updated)."
   ]
  },
  {
   "cell_type": "code",
   "execution_count": 16,
   "id": "a7c33ba9",
   "metadata": {},
   "outputs": [
    {
     "name": "stdout",
     "output_type": "stream",
     "text": [
      "+----------------+------+-------+---------+-----+------+------------+---------------+---------------+---+\n",
      "|             App|Rating|Reviews| Installs|Price|Genres|Last_Updated|Current_Version|Android_Version| RN|\n",
      "+----------------+------+-------+---------+-----+------+------------+---------------+---------------+---+\n",
      "|Farm Heroes Saga|   4.4|7615646|100000000|  0.0|Casual|  2018-08-07|          5.2.6|     2.3 and up|  1|\n",
      "|Farm Heroes Saga|   4.4|7614415|100000000|  0.0|Casual|  2018-07-26|          5.1.8|     2.3 and up|  2|\n",
      "|Farm Heroes Saga|   4.4|7614407|100000000|  0.0|Casual|  2018-07-26|          5.1.8|     2.3 and up|  3|\n",
      "|Farm Heroes Saga|   4.4|7614271|100000000|  0.0|Casual|  2018-07-26|          5.1.8|     2.3 and up|  4|\n",
      "|Farm Heroes Saga|   4.4|7614130|100000000|  0.0|Casual|  2018-07-26|          5.1.8|     2.3 and up|  5|\n",
      "+----------------+------+-------+---------+-----+------+------------+---------------+---------------+---+\n",
      "\n"
     ]
    }
   ],
   "source": [
    "# One specific example\n",
    "spark.sql(\"\"\"\n",
    "SELECT  App, Rating, Reviews, Installs, Price,\n",
    "        Genres, Last_Updated, Current_Version, Android_Version,\n",
    "        row_number() OVER (PARTITION BY App ORDER BY Reviews DESC) RN\n",
    "FROM df\n",
    "WHERE App = \"Farm Heroes Saga\"\n",
    "\"\"\").show()"
   ]
  },
  {
   "cell_type": "markdown",
   "id": "34e2fcc2",
   "metadata": {},
   "source": [
    "Finally, to remove duplicates we are going to use the SQL analytical function ROW_NUMBER() establishing one specific order, and keeping only the first row of each App."
   ]
  },
  {
   "cell_type": "code",
   "execution_count": 12,
   "id": "f7539566",
   "metadata": {},
   "outputs": [
    {
     "name": "stdout",
     "output_type": "stream",
     "text": [
      "+--------------------+------+-------+--------+-----+------+------------+---------------+---------------+---+\n",
      "|                 App|Rating|Reviews|Installs|Price|Genres|Last_Updated|Current_Version|Android_Version| RN|\n",
      "+--------------------+------+-------+--------+-----+------+------------+---------------+---------------+---+\n",
      "|\"i DT\" Fútbol. To...|   NaN|     27|     500|  0.0|Sports|  2017-10-07|           0.22|     4.1 and up|  1|\n",
      "|              #NAME?|   3.5|    115|   10000|  0.0|Comics|  2018-07-13|         5.0.12|     5.0 and up|  1|\n",
      "|+Download 4 Insta...|   4.5|  40467| 1000000|  0.0|Social|  2018-08-02|           5.03|     4.1 and up|  1|\n",
      "|                  .R|   4.5|    259|   10000|  0.0| Tools|  2014-09-16|         1.1.06|     1.5 and up|  1|\n",
      "+--------------------+------+-------+--------+-----+------+------------+---------------+---------------+---+\n",
      "only showing top 4 rows\n",
      "\n"
     ]
    }
   ],
   "source": [
    "df= spark.sql(\"\"\"\n",
    "Select c.* from \n",
    "(SELECT  App, Rating, Reviews, Installs, Price, Genres, Last_Updated, Current_Version, Android_Version,\n",
    "        row_number() OVER (PARTITION BY App ORDER BY Reviews DESC) RN\n",
    "FROM df)c\n",
    "where RN=1\n",
    "\"\"\")\n",
    "\n",
    "df.show(4)"
   ]
  },
  {
   "cell_type": "code",
   "execution_count": 18,
   "id": "c57d2062",
   "metadata": {},
   "outputs": [
    {
     "data": {
      "text/plain": [
       "9660"
      ]
     },
     "execution_count": 18,
     "metadata": {},
     "output_type": "execute_result"
    }
   ],
   "source": [
    "df.count()"
   ]
  },
  {
   "cell_type": "markdown",
   "id": "eed76e42",
   "metadata": {},
   "source": [
    "The following Dataframe method will only remove completely identical rows by looking at all the columns. \n",
    "{df = df.dropDuplicates()}"
   ]
  },
  {
   "cell_type": "code",
   "execution_count": 13,
   "id": "e2c2e71c",
   "metadata": {},
   "outputs": [
    {
     "name": "stdout",
     "output_type": "stream",
     "text": [
      "+---+------+-------+--------+------+-----+---------------+---+\n",
      "|app|rating|reviews|installs|genres|price|android_version|rep|\n",
      "+---+------+-------+--------+------+-----+---------------+---+\n",
      "+---+------+-------+--------+------+-----+---------------+---+\n",
      "\n"
     ]
    }
   ],
   "source": [
    "# Re-check for the duplicate entries\n",
    "df.createOrReplaceTempView(\"df_test\")\n",
    "\n",
    "spark.sql(\"\"\"\n",
    "SELECT app, rating, reviews, installs, genres, price, android_version, count(*) rep\n",
    "FROM df_test\n",
    "GROUP BY app, rating, reviews, installs, genres, price, android_version\n",
    "HAVING count(*) > 1\n",
    "\"\"\").show()"
   ]
  },
  {
   "cell_type": "markdown",
   "id": "e5c57cc8",
   "metadata": {},
   "source": [
    "# From User Reviews Table"
   ]
  },
  {
   "cell_type": "code",
   "execution_count": 14,
   "id": "337340ec",
   "metadata": {},
   "outputs": [],
   "source": [
    "reviews = spark.read.csv(\"googlePS_user.csv\", sep = ',', header=True, escape='\"', inferSchema=True)"
   ]
  },
  {
   "cell_type": "code",
   "execution_count": 15,
   "id": "cf3b9fbf",
   "metadata": {},
   "outputs": [
    {
     "name": "stdout",
     "output_type": "stream",
     "text": [
      "+--------------------+--------------------+---------+------------------+----------------------+\n",
      "|                 App|   Translated_Review|Sentiment|Sentiment_Polarity|Sentiment_Subjectivity|\n",
      "+--------------------+--------------------+---------+------------------+----------------------+\n",
      "|10 Best Foods for...|I like eat delici...| Positive|                 1|           0.533333333|\n",
      "|10 Best Foods for...|This help eating ...| Positive|              0.25|           0.288461538|\n",
      "|10 Best Foods for...|                 nan|      nan|               nan|                   nan|\n",
      "|10 Best Foods for...|Works great espec...| Positive|               0.4|                 0.875|\n",
      "+--------------------+--------------------+---------+------------------+----------------------+\n",
      "only showing top 4 rows\n",
      "\n"
     ]
    }
   ],
   "source": [
    "reviews.show(4)"
   ]
  },
  {
   "cell_type": "code",
   "execution_count": 16,
   "id": "a25e04bd",
   "metadata": {},
   "outputs": [
    {
     "data": {
      "text/plain": [
       "64295"
      ]
     },
     "execution_count": 16,
     "metadata": {},
     "output_type": "execute_result"
    }
   ],
   "source": [
    "reviews.count()"
   ]
  },
  {
   "cell_type": "code",
   "execution_count": 17,
   "id": "0a596c62",
   "metadata": {},
   "outputs": [],
   "source": [
    "reviews.createOrReplaceTempView(\"reviews_test\")"
   ]
  },
  {
   "cell_type": "markdown",
   "id": "d4194e7d",
   "metadata": {},
   "source": [
    "# Questions for bussiness decisions"
   ]
  },
  {
   "cell_type": "code",
   "execution_count": 24,
   "id": "f92fd998",
   "metadata": {},
   "outputs": [
    {
     "name": "stdout",
     "output_type": "stream",
     "text": [
      "+--------------------+------+-------+--------+-----+------+------------+---------------+---------------+\n",
      "|                 App|Rating|Reviews|Installs|Price|Genres|Last_Updated|Current_Version|Android_Version|\n",
      "+--------------------+------+-------+--------+-----+------+------------+---------------+---------------+\n",
      "|\"i DT\" Fútbol. To...|   NaN|     27|     500|  0.0|Sports|  2017-10-07|           0.22|     4.1 and up|\n",
      "|              #NAME?|   3.5|    115|   10000|  0.0|Comics|  2018-07-13|         5.0.12|     5.0 and up|\n",
      "|+Download 4 Insta...|   4.5|  40467| 1000000|  0.0|Social|  2018-08-02|           5.03|     4.1 and up|\n",
      "|                  .R|   4.5|    259|   10000|  0.0| Tools|  2014-09-16|         1.1.06|     1.5 and up|\n",
      "+--------------------+------+-------+--------+-----+------+------------+---------------+---------------+\n",
      "only showing top 4 rows\n",
      "\n"
     ]
    }
   ],
   "source": [
    "df= df.drop(\"RN\")\n",
    "df.show(4)"
   ]
  },
  {
   "cell_type": "code",
   "execution_count": 25,
   "id": "35b6b49e",
   "metadata": {},
   "outputs": [
    {
     "name": "stdout",
     "output_type": "stream",
     "text": [
      "+--------------------+--------------------+---------+------------------+----------------------+\n",
      "|                 App|   Translated_Review|Sentiment|Sentiment_Polarity|Sentiment_Subjectivity|\n",
      "+--------------------+--------------------+---------+------------------+----------------------+\n",
      "|10 Best Foods for...|I like eat delici...| Positive|                 1|           0.533333333|\n",
      "|10 Best Foods for...|This help eating ...| Positive|              0.25|           0.288461538|\n",
      "|10 Best Foods for...|                 nan|      nan|               nan|                   nan|\n",
      "|10 Best Foods for...|Works great espec...| Positive|               0.4|                 0.875|\n",
      "+--------------------+--------------------+---------+------------------+----------------------+\n",
      "only showing top 4 rows\n",
      "\n"
     ]
    }
   ],
   "source": [
    "reviews.show(4)"
   ]
  },
  {
   "cell_type": "markdown",
   "id": "1f7ef325",
   "metadata": {},
   "source": [
    "### Q1. Applications with at least 10000 reviews, at least 50000 installations and are supported on Android 4.0 and higher.\n"
   ]
  },
  {
   "cell_type": "markdown",
   "id": "8d88a03d",
   "metadata": {},
   "source": [
    "The major problem here is to know, how we gonna extract 4.0 and higher from the string datatype column 'Android_Version'.  "
   ]
  },
  {
   "cell_type": "code",
   "execution_count": 41,
   "id": "23db9d36",
   "metadata": {},
   "outputs": [
    {
     "name": "stdout",
     "output_type": "stream",
     "text": [
      "+--------------------+---------------+\n",
      "|                 APP|Android_Version|\n",
      "+--------------------+---------------+\n",
      "|\"i DT\" Fútbol. To...|     4.1 and up|\n",
      "|              #NAME?|     5.0 and up|\n",
      "|+Download 4 Insta...|     4.1 and up|\n",
      "|              /u/app|     4.1 and up|\n",
      "|              058.ba|     4.2 and up|\n",
      "|      1. FC Köln App|     4.4 and up|\n",
      "|100 Doors of Revenge|     4.4 and up|\n",
      "|     100+ C Programs|     4.0 and up|\n",
      "|100000+ Messages ...|   4.0.3 and up|\n",
      "|101 C Programming...|   4.0.3 and up|\n",
      "|104 Looking for a...|     4.0 and up|\n",
      "|                11st|     4.0 and up|\n",
      "|12 Step Meditatio...|     4.1 and up|\n",
      "|       14thStreetVet|   4.0.3 and up|\n",
      "|1800 Contacts - L...|     5.0 and up|\n",
      "|1LINE – One Line ...|     4.1 and up|\n",
      "|1st Fed CI Mobile...|     4.1 and up|\n",
      "|2000 AD Comics an...|   4.0.3 and up|\n",
      "|2017 BN SM Sales ...|     4.1 and up|\n",
      "|2017 EMRA Antibio...|   4.0.3 and up|\n",
      "+--------------------+---------------+\n",
      "only showing top 20 rows\n",
      "\n"
     ]
    }
   ],
   "source": [
    "# By exracting and analzing the first 2 digits of the string \n",
    "spark.sql(\"\"\"Select APP, Android_Version from df_test\n",
    "where CAST(SUBSTRING(REGEXP_REPLACE(Android_Version,\"[^0-9]\",\"\"), 0, 1) as INT) >= 4\n",
    "\"\"\").show()"
   ]
  },
  {
   "cell_type": "code",
   "execution_count": 42,
   "id": "9a7bcfcc",
   "metadata": {},
   "outputs": [
    {
     "name": "stdout",
     "output_type": "stream",
     "text": [
      "+--------------------+--------+---------+---------------+\n",
      "|                 APP| Reviews| Installs|Android_Version|\n",
      "+--------------------+--------+---------+---------------+\n",
      "|+Download 4 Insta...|   40467|  1000000|     4.1 and up|\n",
      "|100 Doors of Revenge|  105766| 10000000|     4.4 and up|\n",
      "|104 Looking for a...|   74359|  1000000|     4.0 and up|\n",
      "|                11st|   48732| 10000000|     4.0 and up|\n",
      "|1800 Contacts - L...|   23160|  1000000|     5.0 and up|\n",
      "|1LINE – One Line ...|  214878| 10000000|     4.1 and up|\n",
      "|2018Emoji Keyboar...|  115773| 10000000|     4.1 and up|\n",
      "|21-Day Meditation...|   11506|   100000|     4.1 and up|\n",
      "|2Date Dating App,...|   41605|   500000|   4.0.3 and up|\n",
      "|2ndLine - Second ...|   15880|  1000000|     4.0 and up|\n",
      "|30 Day Fitness Ch...|  471036| 10000000|     4.0 and up|\n",
      "|365Scores - Live ...|  666521| 10000000|     4.1 and up|\n",
      "|3D Blue Glass Wat...|   62209| 10000000|   4.0.3 and up|\n",
      "|50000 Free eBooks...|   52312|  5000000|     4.4 and up|\n",
      "|591 housing trans...|   24977|  1000000|   4.0.3 and up|\n",
      "|7 Nights at Pixel...|   23168|  1000000|     4.4 and up|\n",
      "|         8 Ball Pool|14201891|100000000|   4.0.3 and up|\n",
      "|8fit Workouts & M...|  115721| 10000000|     5.0 and up|\n",
      "|     A Better Camera|   76484|  5000000|     4.0 and up|\n",
      "|A&E - Watch Full ...|   29708|  1000000|     4.4 and up|\n",
      "+--------------------+--------+---------+---------------+\n",
      "only showing top 20 rows\n",
      "\n"
     ]
    }
   ],
   "source": [
    "spark.sql(\"\"\"Select APP, Reviews, Installs, Android_Version from df_test\n",
    "where Reviews>=10000 and Installs>=50000 \n",
    "and CAST(SUBSTRING(REGEXP_REPLACE(Android_Version,\"[^0-9]\",\"\"), 0, 1) as INT) >= 4\n",
    "\"\"\").show()"
   ]
  },
  {
   "cell_type": "markdown",
   "id": "60d0be82",
   "metadata": {},
   "source": [
    "### Q2. Top 10 applications in regards to the highest number of positive sentiments.\n"
   ]
  },
  {
   "cell_type": "code",
   "execution_count": 28,
   "id": "b6286833",
   "metadata": {},
   "outputs": [
    {
     "name": "stdout",
     "output_type": "stream",
     "text": [
      "+--------------------+---+\n",
      "|                 APP|cnt|\n",
      "+--------------------+---+\n",
      "|          Helix Jump|209|\n",
      "|Duolingo: Learn L...|200|\n",
      "|Calorie Counter -...|174|\n",
      "|Calorie Counter -...|169|\n",
      "|          Bowmasters|169|\n",
      "|10 Best Foods for...|162|\n",
      "|       Google Photos|143|\n",
      "|8fit Workouts & M...|137|\n",
      "|    Garena Free Fire|136|\n",
      "| DRAGON BALL LEGENDS|127|\n",
      "+--------------------+---+\n",
      "\n"
     ]
    }
   ],
   "source": [
    "spark.sql(\"\"\"\n",
    "Select APP, count(Sentiment) cnt\n",
    "from reviews_test\n",
    "where Sentiment='Positive'\n",
    "group by APP\n",
    "order by cnt desc\n",
    "limit 10\n",
    "\"\"\").show()"
   ]
  },
  {
   "cell_type": "markdown",
   "id": "72861be5",
   "metadata": {},
   "source": [
    "### Q3. Histogram for the number of installations."
   ]
  },
  {
   "cell_type": "code",
   "execution_count": 45,
   "id": "2487c3f0",
   "metadata": {},
   "outputs": [],
   "source": [
    "df= df.fillna(0, \"Installs\")"
   ]
  },
  {
   "cell_type": "code",
   "execution_count": 53,
   "id": "64e36495",
   "metadata": {},
   "outputs": [
    {
     "name": "stdout",
     "output_type": "stream",
     "text": [
      "+----------+---------+\n",
      "|  Installs|Frequency|\n",
      "+----------+---------+\n",
      "|         0|       16|\n",
      "|         1|       67|\n",
      "|         5|       82|\n",
      "|        10|      385|\n",
      "|        50|      204|\n",
      "|       100|      709|\n",
      "|       500|      328|\n",
      "|      1000|      887|\n",
      "|      5000|      468|\n",
      "|     10000|     1030|\n",
      "|     50000|      469|\n",
      "|    100000|     1113|\n",
      "|    500000|      504|\n",
      "|   1000000|     1417|\n",
      "|   5000000|      607|\n",
      "|  10000000|      937|\n",
      "|  50000000|      204|\n",
      "| 100000000|      189|\n",
      "| 500000000|       24|\n",
      "|1000000000|       20|\n",
      "+----------+---------+\n",
      "\n"
     ]
    }
   ],
   "source": [
    "histogram= spark.sql(\"\"\"\n",
    "Select Installs, count(*) Frequency\n",
    "from df_test\n",
    "group by Installs\n",
    "order by Installs\n",
    "\"\"\")\n",
    "\n",
    "histogram.show()"
   ]
  },
  {
   "cell_type": "markdown",
   "id": "67a79bf4",
   "metadata": {},
   "source": [
    "For the ploting of Data we extracted, we need to convert the PySpark Dataframe to Pandas Dataframe in order to use the Pandas internal plot library."
   ]
  },
  {
   "cell_type": "code",
   "execution_count": 54,
   "id": "6c479f94",
   "metadata": {},
   "outputs": [],
   "source": [
    "# Conversion: Spark DF to Pandas DF\n",
    "plotdf = histogram.toPandas()"
   ]
  },
  {
   "cell_type": "code",
   "execution_count": 57,
   "id": "3ca3be84",
   "metadata": {},
   "outputs": [
    {
     "data": {
      "text/plain": [
       "<AxesSubplot:ylabel='Installs'>"
      ]
     },
     "execution_count": 57,
     "metadata": {},
     "output_type": "execute_result"
    },
    {
     "data": {
      "image/png": "[encoded data removed]",
      "text/plain": [
       "<Figure size 432x288 with 1 Axes>"
      ]
     },
     "metadata": {
      "needs_background": "light"
     },
     "output_type": "display_data"
    }
   ],
   "source": [
    "# Pandas internal plot library\n",
    "plotdf.plot(kind='barh', x='Installs', y='Frequency')"
   ]
  },
  {
   "cell_type": "markdown",
   "id": "aac7771c",
   "metadata": {},
   "source": [
    "### Q4. How many distinct genres there are? How many apps for each genre?"
   ]
  },
  {
   "cell_type": "code",
   "execution_count": 68,
   "id": "d6d44de7",
   "metadata": {},
   "outputs": [
    {
     "name": "stdout",
     "output_type": "stream",
     "text": [
      "+---+\n",
      "|cnt|\n",
      "+---+\n",
      "|119|\n",
      "+---+\n",
      "\n"
     ]
    }
   ],
   "source": [
    "spark.sql(\"\"\"\n",
    "Select count(distinct Genres) cnt\n",
    "from df_test\n",
    "\"\"\").show()"
   ]
  },
  {
   "cell_type": "code",
   "execution_count": 65,
   "id": "fc20dc01",
   "metadata": {},
   "outputs": [
    {
     "name": "stdout",
     "output_type": "stream",
     "text": [
      "+-----------------+---+\n",
      "|           Genres|cnt|\n",
      "+-----------------+---+\n",
      "|            Tools|828|\n",
      "|    Entertainment|561|\n",
      "|        Education|510|\n",
      "|         Business|420|\n",
      "|          Medical|395|\n",
      "|  Personalization|376|\n",
      "|     Productivity|374|\n",
      "|        Lifestyle|368|\n",
      "|          Finance|345|\n",
      "|           Sports|331|\n",
      "|    Communication|315|\n",
      "|           Action|299|\n",
      "| Health & Fitness|288|\n",
      "|      Photography|281|\n",
      "| News & Magazines|254|\n",
      "|           Social|239|\n",
      "|Books & Reference|222|\n",
      "|   Travel & Local|218|\n",
      "|         Shopping|202|\n",
      "|       Simulation|193|\n",
      "+-----------------+---+\n",
      "only showing top 20 rows\n",
      "\n"
     ]
    }
   ],
   "source": [
    "spark.sql(\"\"\"\n",
    "Select distinct Genres, count(App) cnt\n",
    "from df_test\n",
    "group by Genres\n",
    "order by cnt desc\n",
    "\"\"\").show()"
   ]
  },
  {
   "cell_type": "markdown",
   "id": "634be2ce",
   "metadata": {},
   "source": [
    "### Q5. Apps with more positive Sentiments than negative and neutral together and having a Rating of at least 4.2."
   ]
  },
  {
   "cell_type": "code",
   "execution_count": 69,
   "id": "a33ab04a",
   "metadata": {},
   "outputs": [
    {
     "name": "stdout",
     "output_type": "stream",
     "text": [
      "+--------------------+------+-------+--------+-----+------+------------+---------------+---------------+\n",
      "|                 App|Rating|Reviews|Installs|Price|Genres|Last_Updated|Current_Version|Android_Version|\n",
      "+--------------------+------+-------+--------+-----+------+------------+---------------+---------------+\n",
      "|\"i DT\" Fútbol. To...|   NaN|     27|     500|  0.0|Sports|  2017-10-07|           0.22|     4.1 and up|\n",
      "|              #NAME?|   3.5|    115|   10000|  0.0|Comics|  2018-07-13|         5.0.12|     5.0 and up|\n",
      "|+Download 4 Insta...|   4.5|  40467| 1000000|  0.0|Social|  2018-08-02|           5.03|     4.1 and up|\n",
      "|                  .R|   4.5|    259|   10000|  0.0| Tools|  2014-09-16|         1.1.06|     1.5 and up|\n",
      "+--------------------+------+-------+--------+-----+------+------------+---------------+---------------+\n",
      "only showing top 4 rows\n",
      "\n"
     ]
    }
   ],
   "source": [
    "df.show(4)"
   ]
  },
  {
   "cell_type": "code",
   "execution_count": 71,
   "id": "750fc292",
   "metadata": {},
   "outputs": [
    {
     "name": "stdout",
     "output_type": "stream",
     "text": [
      "root\n",
      " |-- App: string (nullable = true)\n",
      " |-- Rating: double (nullable = true)\n",
      " |-- Reviews: integer (nullable = true)\n",
      " |-- Installs: integer (nullable = true)\n",
      " |-- Price: double (nullable = false)\n",
      " |-- Genres: string (nullable = true)\n",
      " |-- Last_Updated: date (nullable = true)\n",
      " |-- Current_Version: string (nullable = true)\n",
      " |-- Android_Version: string (nullable = true)\n",
      "\n"
     ]
    }
   ],
   "source": [
    "df.printSchema()"
   ]
  },
  {
   "cell_type": "code",
   "execution_count": 85,
   "id": "12f55059",
   "metadata": {},
   "outputs": [
    {
     "name": "stdout",
     "output_type": "stream",
     "text": [
      "+--------------------+------+-------+--------+-----+------+------------+---------------+---------------+\n",
      "|                 App|Rating|Reviews|Installs|Price|Genres|Last_Updated|Current_Version|Android_Version|\n",
      "+--------------------+------+-------+--------+-----+------+------------+---------------+---------------+\n",
      "|\"i DT\" Fútbol. To...|   0.0|     27|     500|  0.0|Sports|  2017-10-07|           0.22|     4.1 and up|\n",
      "|              #NAME?|   3.5|    115|   10000|  0.0|Comics|  2018-07-13|         5.0.12|     5.0 and up|\n",
      "|+Download 4 Insta...|   4.5|  40467| 1000000|  0.0|Social|  2018-08-02|           5.03|     4.1 and up|\n",
      "|                  .R|   4.5|    259|   10000|  0.0| Tools|  2014-09-16|         1.1.06|     1.5 and up|\n",
      "+--------------------+------+-------+--------+-----+------+------------+---------------+---------------+\n",
      "only showing top 4 rows\n",
      "\n"
     ]
    }
   ],
   "source": [
    "df= df.fillna(0, \"Rating\")\n",
    "df.show(4)"
   ]
  },
  {
   "cell_type": "code",
   "execution_count": 98,
   "id": "fbd0a4fc",
   "metadata": {},
   "outputs": [
    {
     "name": "stdout",
     "output_type": "stream",
     "text": [
      "+--------------------+--------------------+---------+------------------+----------------------+\n",
      "|                 App|   Translated_Review|Sentiment|Sentiment_Polarity|Sentiment_Subjectivity|\n",
      "+--------------------+--------------------+---------+------------------+----------------------+\n",
      "|10 Best Foods for...|I like eat delici...| Positive|                 1|           0.533333333|\n",
      "|10 Best Foods for...|This help eating ...| Positive|              0.25|           0.288461538|\n",
      "|10 Best Foods for...|                 nan|      nan|               nan|                   nan|\n",
      "|10 Best Foods for...|Works great espec...| Positive|               0.4|                 0.875|\n",
      "+--------------------+--------------------+---------+------------------+----------------------+\n",
      "only showing top 4 rows\n",
      "\n"
     ]
    }
   ],
   "source": [
    "reviews.show(4)"
   ]
  },
  {
   "cell_type": "markdown",
   "id": "11f0dd69",
   "metadata": {},
   "source": [
    "#### Major Operation starts from here onwards"
   ]
  },
  {
   "cell_type": "code",
   "execution_count": 18,
   "id": "e67e0673",
   "metadata": {},
   "outputs": [
    {
     "name": "stdout",
     "output_type": "stream",
     "text": [
      "+--------------------+---+---+----+\n",
      "|                 App|pos|neg|neut|\n",
      "+--------------------+---+---+----+\n",
      "|BaBe+ - Berita In...| 13|  2|   5|\n",
      "|    Basketball Stars| 44| 41|   4|\n",
      "|Davis's Drug Guid...|  2|  0|   1|\n",
      "|Bloomberg Profess...| 15| 11|  14|\n",
      "|Bagan - Myanmar K...| 21|  2|   9|\n",
      "|     Candy Pop Story| 22| 13|   5|\n",
      "|Cricbuzz - Live C...| 26| 11|   1|\n",
      "|AOL - News, Mail ...| 17|  7|   9|\n",
      "|            Arrow.io| 53| 28|  14|\n",
      "|CALCU™ Stylish Ca...| 27|  1|  10|\n",
      "+--------------------+---+---+----+\n",
      "only showing top 10 rows\n",
      "\n"
     ]
    }
   ],
   "source": [
    "Sent_per_app= spark.sql(\"\"\"\n",
    "Select App, \n",
    "sum(case Sentiment when 'Positive' then 1 else 0 end) pos,\n",
    "sum(case Sentiment when 'Negative' then 1 else 0 end) neg,\n",
    "sum(case Sentiment when 'Neutral' then 1 else 0 end) neut\n",
    "from reviews_test\n",
    "where Sentiment!= 'nan'\n",
    "group by App\n",
    "\"\"\")\n",
    "\n",
    "Sent_per_app.show(10)"
   ]
  },
  {
   "cell_type": "code",
   "execution_count": 19,
   "id": "42806d3b",
   "metadata": {},
   "outputs": [],
   "source": [
    "Sent_per_app.createOrReplaceTempView(\"Sent_per_app\")"
   ]
  },
  {
   "cell_type": "code",
   "execution_count": 20,
   "id": "b3f19e14",
   "metadata": {},
   "outputs": [
    {
     "name": "stdout",
     "output_type": "stream",
     "text": [
      "+------+--------------------+---+---+----+\n",
      "|Rating|                 App|pos|neg|neut|\n",
      "+------+--------------------+---+---+----+\n",
      "|   4.4|    Basketball Stars| 44| 41|   4|\n",
      "|   4.5|Davis's Drug Guid...|  2|  0|   1|\n",
      "|   4.7|     Candy Pop Story| 22| 13|   5|\n",
      "|   4.5|Cricbuzz - Live C...| 26| 11|   1|\n",
      "|   4.5|            Arrow.io| 53| 28|  14|\n",
      "|   4.7|CALCU™ Stylish Ca...| 27|  1|  10|\n",
      "|   4.7|BELONG Beating Ca...| 28|  2|   8|\n",
      "|   4.5|      Bubble Shooter|100| 40|   5|\n",
      "|   4.5|All-in-One Mahjon...|  1|  0|   0|\n",
      "|   4.3|     Amazon Shopping| 22| 13|  10|\n",
      "|   4.5|Basketball FRVR -...| 16| 12|   7|\n",
      "|   4.6|CM Launcher 3D - ...| 12|  2|   4|\n",
      "|   4.3|Dog Licks Screen ...| 20|  5|   9|\n",
      "|   4.6|Dream League Socc...|  2|  1|   0|\n",
      "|   4.6|Drawing for Kids ...|  1|  0|   0|\n",
      "|   4.2|         Blood Donor| 26|  2|  11|\n",
      "|   4.8|Calculator with P...|  1|  0|   1|\n",
      "|   4.7|  Domino's Pizza USA| 40| 11|   2|\n",
      "|   4.5|2GIS: directory &...| 23|  6|  11|\n",
      "|   4.3|         Alarm Clock| 22|  4|  10|\n",
      "+------+--------------------+---+---+----+\n",
      "only showing top 20 rows\n",
      "\n"
     ]
    }
   ],
   "source": [
    "pre_final= spark.sql(\"\"\"\n",
    "Select a.Rating, b.*\n",
    "from df_test a inner join Sent_per_app b\n",
    "ON a.App = b.App \n",
    "and Rating>= 4.2\n",
    "\"\"\")\n",
    "pre_final.show()"
   ]
  },
  {
   "cell_type": "code",
   "execution_count": 21,
   "id": "8719104b",
   "metadata": {},
   "outputs": [],
   "source": [
    "pre_final.createOrReplaceTempView(\"pre_final\")"
   ]
  },
  {
   "cell_type": "code",
   "execution_count": 22,
   "id": "cd588960",
   "metadata": {},
   "outputs": [
    {
     "name": "stdout",
     "output_type": "stream",
     "text": [
      "+------+--------------------+---+---+----+\n",
      "|Rating|                 App|pos|neg|neut|\n",
      "+------+--------------------+---+---+----+\n",
      "|   4.2|          Helix Jump|209| 58|   6|\n",
      "|   4.7|Duolingo: Learn L...|200| 34|   6|\n",
      "|   4.6|Calorie Counter -...|169| 52|  34|\n",
      "|   4.7|          Bowmasters|169|119|  24|\n",
      "|   4.5|       Google Photos|143| 47|   1|\n",
      "|   4.6|8fit Workouts & M...|137| 19|  15|\n",
      "|   4.5|    Garena Free Fire|136| 81|   5|\n",
      "|   4.6| DRAGON BALL LEGENDS|127| 39|   1|\n",
      "|   4.3|CBS Sports App - ...|123| 42|  27|\n",
      "|   4.6|ColorNote Notepad...|121|  7|   3|\n",
      "|   4.5|Calorie Counter -...|120|  4|  15|\n",
      "|   4.3|Adobe Acrobat Reader|119| 28|  15|\n",
      "|   4.5|Calorie Counter &...|109| 17|   9|\n",
      "|   4.6|        Clash Royale|107| 58|   0|\n",
      "|   4.6|    Alto's Adventure|103| 72|   0|\n",
      "|   4.3|           Flow Free|101| 49|   4|\n",
      "|   4.5|      Bubble Shooter|100| 40|   5|\n",
      "|   4.6|Groupon - Shop De...| 95| 10|  15|\n",
      "|   4.4|Family Locator - ...| 95|  7|  13|\n",
      "|   4.3|Episode - Choose ...| 94| 48|  18|\n",
      "+------+--------------------+---+---+----+\n",
      "only showing top 20 rows\n",
      "\n"
     ]
    }
   ],
   "source": [
    "spark.sql(\"\"\"\n",
    "Select *\n",
    "from pre_final\n",
    "where pos> neg+neut\n",
    "order by pos desc\n",
    "\"\"\").show()"
   ]
  },
  {
   "cell_type": "markdown",
   "id": "886c35e9",
   "metadata": {},
   "source": [
    "# Applying Machine Learning tool (Linear regression) on the Dataset "
   ]
  },
  {
   "cell_type": "code",
   "execution_count": 125,
   "id": "4e24a9b6",
   "metadata": {},
   "outputs": [
    {
     "name": "stdout",
     "output_type": "stream",
     "text": [
      "+--------------------+------+-------+--------+-----+------+------------+---------------+---------------+\n",
      "|                 App|Rating|Reviews|Installs|Price|Genres|Last_Updated|Current_Version|Android_Version|\n",
      "+--------------------+------+-------+--------+-----+------+------------+---------------+---------------+\n",
      "|\"i DT\" Fútbol. To...|   0.0|     27|     500|  0.0|Sports|  2017-10-07|           0.22|     4.1 and up|\n",
      "|              #NAME?|   3.5|    115|   10000|  0.0|Comics|  2018-07-13|         5.0.12|     5.0 and up|\n",
      "|+Download 4 Insta...|   4.5|  40467| 1000000|  0.0|Social|  2018-08-02|           5.03|     4.1 and up|\n",
      "|                  .R|   4.5|    259|   10000|  0.0| Tools|  2014-09-16|         1.1.06|     1.5 and up|\n",
      "+--------------------+------+-------+--------+-----+------+------------+---------------+---------------+\n",
      "only showing top 4 rows\n",
      "\n"
     ]
    }
   ],
   "source": [
    "df= df.drop(\"RN\")\n",
    "df= df.fillna(0, \"Rating\")\n",
    "df.show(4)"
   ]
  },
  {
   "cell_type": "code",
   "execution_count": 126,
   "id": "9c87c088",
   "metadata": {},
   "outputs": [
    {
     "name": "stdout",
     "output_type": "stream",
     "text": [
      "+--------------------+--------------------+---------+------------------+----------------------+\n",
      "|                 App|   Translated_Review|Sentiment|Sentiment_Polarity|Sentiment_Subjectivity|\n",
      "+--------------------+--------------------+---------+------------------+----------------------+\n",
      "|10 Best Foods for...|I like eat delici...| Positive|                 1|           0.533333333|\n",
      "|10 Best Foods for...|This help eating ...| Positive|              0.25|           0.288461538|\n",
      "|10 Best Foods for...|                 nan|      nan|               nan|                   nan|\n",
      "|10 Best Foods for...|Works great espec...| Positive|               0.4|                 0.875|\n",
      "+--------------------+--------------------+---------+------------------+----------------------+\n",
      "only showing top 4 rows\n",
      "\n"
     ]
    }
   ],
   "source": [
    "reviews.show(4)"
   ]
  },
  {
   "cell_type": "code",
   "execution_count": 165,
   "id": "15968f2f",
   "metadata": {},
   "outputs": [
    {
     "name": "stdout",
     "output_type": "stream",
     "text": [
      "+--------------------+-----+-------+--------+\n",
      "|                 App|Price|Reviews|Installs|\n",
      "+--------------------+-----+-------+--------+\n",
      "|10 WPM Amateur ha...| 1.49|     10|     100|\n",
      "|10,000 Quotes DB ...| 0.99|     70|     500|\n",
      "|17th Edition Cabl...| 3.08|     47|    1000|\n",
      "|2 Amateur ham rad...| 1.49|      6|     100|\n",
      "+--------------------+-----+-------+--------+\n",
      "only showing top 4 rows\n",
      "\n"
     ]
    }
   ],
   "source": [
    "# Forming a new dataset to implement ML operation\n",
    "\n",
    "data= spark.sql(\"\"\"\n",
    "Select App, Price, Reviews, Installs\n",
    "from df_test \n",
    "where Price!= 0 and Reviews!= 0 and Installs!=0\n",
    "\"\"\")\n",
    "\n",
    "data.show(4)"
   ]
  },
  {
   "cell_type": "code",
   "execution_count": 166,
   "id": "f897b77a",
   "metadata": {},
   "outputs": [
    {
     "name": "stdout",
     "output_type": "stream",
     "text": [
      "root\n",
      " |-- App: string (nullable = true)\n",
      " |-- Price: double (nullable = false)\n",
      " |-- Reviews: integer (nullable = true)\n",
      " |-- Installs: integer (nullable = true)\n",
      "\n"
     ]
    }
   ],
   "source": [
    "#changing the datatype of 'Sentiment_Polarity'\n",
    "\n",
    "data.printSchema()"
   ]
  },
  {
   "cell_type": "code",
   "execution_count": 190,
   "id": "e6fc0393",
   "metadata": {},
   "outputs": [
    {
     "data": {
      "text/plain": [
       "678"
      ]
     },
     "execution_count": 190,
     "metadata": {},
     "output_type": "execute_result"
    }
   ],
   "source": [
    "data.count()"
   ]
  },
  {
   "cell_type": "code",
   "execution_count": 170,
   "id": "68850da6",
   "metadata": {},
   "outputs": [
    {
     "data": {
      "text/plain": [
       "678"
      ]
     },
     "execution_count": 170,
     "metadata": {},
     "output_type": "execute_result"
    }
   ],
   "source": [
    "# After dropping the 'na' values\n",
    "\n",
    "data=data.na.drop()\n",
    "data.count()"
   ]
  },
  {
   "cell_type": "markdown",
   "id": "d9b435f3",
   "metadata": {},
   "source": [
    "### Major Operation starts from here onwards"
   ]
  },
  {
   "cell_type": "markdown",
   "id": "cf8ee95b",
   "metadata": {},
   "source": [
    "#### Giving Training to the Dataset"
   ]
  },
  {
   "cell_type": "code",
   "execution_count": 179,
   "id": "22f97921",
   "metadata": {},
   "outputs": [],
   "source": [
    "from pyspark.ml.feature import VectorAssembler\n",
    "featureassembler= VectorAssembler(inputCols=['Installs', 'Reviews'], outputCol='Independent Features')"
   ]
  },
  {
   "cell_type": "code",
   "execution_count": 180,
   "id": "a42ae115",
   "metadata": {},
   "outputs": [
    {
     "name": "stdout",
     "output_type": "stream",
     "text": [
      "+--------------------+-----+-------+--------+--------------------+\n",
      "|                 App|Price|Reviews|Installs|Independent Features|\n",
      "+--------------------+-----+-------+--------+--------------------+\n",
      "|10 WPM Amateur ha...| 1.49|     10|     100|        [100.0,10.0]|\n",
      "|10,000 Quotes DB ...| 0.99|     70|     500|        [500.0,70.0]|\n",
      "|17th Edition Cabl...| 3.08|     47|    1000|       [1000.0,47.0]|\n",
      "|2 Amateur ham rad...| 1.49|      6|     100|         [100.0,6.0]|\n",
      "|2017 EMRA Antibio...|16.99|     12|    1000|       [1000.0,12.0]|\n",
      "+--------------------+-----+-------+--------+--------------------+\n",
      "only showing top 5 rows\n",
      "\n"
     ]
    }
   ],
   "source": [
    "output= featureassembler.transform(data)\n",
    "output.show(5)"
   ]
  },
  {
   "cell_type": "code",
   "execution_count": 181,
   "id": "f2db6754",
   "metadata": {},
   "outputs": [
    {
     "name": "stdout",
     "output_type": "stream",
     "text": [
      "+--------------------+-----+\n",
      "|Independent Features|Price|\n",
      "+--------------------+-----+\n",
      "|        [100.0,10.0]| 1.49|\n",
      "|        [500.0,70.0]| 0.99|\n",
      "|       [1000.0,47.0]| 3.08|\n",
      "|         [100.0,6.0]| 1.49|\n",
      "|       [1000.0,12.0]|16.99|\n",
      "|        [100.0,12.0]| 1.49|\n",
      "|          [10.0,8.0]| 0.99|\n",
      "|          [10.0,1.0]| 1.49|\n",
      "|         [100.0,7.0]| 9.99|\n",
      "|      [1000.0,214.0]|33.99|\n",
      "+--------------------+-----+\n",
      "only showing top 10 rows\n",
      "\n"
     ]
    }
   ],
   "source": [
    "final_data= output.select(['Independent Features', 'Price'])\n",
    "final_data.show(10)"
   ]
  },
  {
   "cell_type": "markdown",
   "id": "88deafd6",
   "metadata": {},
   "source": [
    "#### Applying Linear Regression to train the Dataset"
   ]
  },
  {
   "cell_type": "code",
   "execution_count": 182,
   "id": "10c2d682",
   "metadata": {},
   "outputs": [],
   "source": [
    "from pyspark.ml.regression import LinearRegression\n",
    "\n",
    "# train and test data split (75% of data to train_data and remaining 25% of data to test_data)\n",
    "\n",
    "train_data, test_data= final_data.randomSplit([0.75, 0.25])\n",
    "regressor= LinearRegression(featuresCol= 'Independent Features', labelCol= 'Price')\n",
    "regressor= regressor.fit(train_data)"
   ]
  },
  {
   "cell_type": "markdown",
   "id": "b9245aba",
   "metadata": {},
   "source": [
    "#### Its time to predict the \"Price\" on rem 25% dataset (test_data)"
   ]
  },
  {
   "cell_type": "code",
   "execution_count": 183,
   "id": "15e3a518",
   "metadata": {},
   "outputs": [],
   "source": [
    "# Prediction on the remaining 25% (test_data) of the final_data\n",
    "\n",
    "pred_result= regressor.evaluate(test_data)"
   ]
  },
  {
   "cell_type": "code",
   "execution_count": 189,
   "id": "bda48d5f",
   "metadata": {},
   "outputs": [
    {
     "name": "stdout",
     "output_type": "stream",
     "text": [
      "+--------------------+------+------------------+\n",
      "|Independent Features| Price|        prediction|\n",
      "+--------------------+------+------------------+\n",
      "|           [1.0,2.0]|  1.49| 13.28985459810176|\n",
      "|          [10.0,1.0]|  0.99| 13.28982887446357|\n",
      "|          [10.0,1.0]|  0.99| 13.28982887446357|\n",
      "|          [10.0,1.0]|  4.99| 13.28982887446357|\n",
      "|          [10.0,1.0]|  5.49| 13.28982887446357|\n",
      "|          [10.0,1.0]|  5.99| 13.28982887446357|\n",
      "|          [10.0,1.0]|  6.49| 13.28982887446357|\n",
      "|          [10.0,1.0]| 29.99| 13.28982887446357|\n",
      "|          [10.0,1.0]| 29.99| 13.28982887446357|\n",
      "|          [10.0,2.0]|  1.99|13.289832965428893|\n",
      "|          [10.0,3.0]|  0.99|13.289837056394218|\n",
      "|          [10.0,3.0]|  2.49|13.289837056394218|\n",
      "|          [10.0,4.0]| 14.99|13.289841147359542|\n",
      "|          [50.0,1.0]|  1.99|13.289732729250831|\n",
      "|          [50.0,2.0]|  1.76|13.289736820216156|\n",
      "|          [50.0,2.0]|  2.99|13.289736820216156|\n",
      "|          [50.0,2.0]|  3.99|13.289736820216156|\n",
      "|          [50.0,3.0]|  2.99| 13.28974091118148|\n",
      "|          [50.0,4.0]|  0.99|13.289745002146804|\n",
      "|          [50.0,6.0]|  0.99|13.289753184077453|\n",
      "|          [50.0,9.0]|  2.99|13.289765456973425|\n",
      "|         [100.0,1.0]|  1.49| 13.28961254773491|\n",
      "|         [100.0,1.0]|  1.99| 13.28961254773491|\n",
      "|         [100.0,1.0]|  4.99| 13.28961254773491|\n",
      "|         [100.0,2.0]|  3.99|13.289616638700235|\n",
      "|         [100.0,2.0]|  9.99|13.289616638700235|\n",
      "|         [100.0,3.0]| 24.99| 13.28962072966556|\n",
      "|         [100.0,5.0]|  0.99|13.289628911596207|\n",
      "|         [100.0,5.0]|  4.99|13.289628911596207|\n",
      "|         [100.0,7.0]|  4.99|13.289637093526855|\n",
      "|         [100.0,7.0]|  9.99|13.289637093526855|\n",
      "|        [100.0,10.0]|  1.49|13.289649366422827|\n",
      "|        [100.0,12.0]|  1.99|13.289657548353476|\n",
      "|        [100.0,12.0]|  3.99|13.289657548353476|\n",
      "|        [100.0,13.0]|  1.49|  13.2896616393188|\n",
      "|        [100.0,17.0]|  0.99|13.289678003180097|\n",
      "|        [100.0,19.0]|  4.49|13.289686185110744|\n",
      "|        [100.0,21.0]|  0.99|13.289694367041392|\n",
      "|        [100.0,21.0]|  1.49|13.289694367041392|\n",
      "|        [100.0,31.0]|  0.99|13.289735276694634|\n",
      "|        [100.0,55.0]|  1.99|13.289833459862413|\n",
      "|         [500.0,2.0]|  2.99| 13.28865518657286|\n",
      "|         [500.0,5.0]|  1.49|13.288667459468833|\n",
      "|         [500.0,8.0]|  3.99|13.288679732364805|\n",
      "|         [500.0,9.0]|  3.99| 13.28868382333013|\n",
      "|        [500.0,11.0]| 15.99|13.288692005260778|\n",
      "|        [500.0,16.0]|  1.99|  13.2887124600874|\n",
      "|        [500.0,20.0]|  1.99|13.288728823948695|\n",
      "|        [500.0,25.0]|  1.49|13.288749278775315|\n",
      "|        [500.0,28.0]| 17.99|13.288761551671287|\n",
      "|        [500.0,30.0]|  0.99|13.288769733601937|\n",
      "|        [500.0,33.0]|  3.99| 13.28878200649791|\n",
      "|        [500.0,58.0]|  2.99|13.288884280631011|\n",
      "|        [500.0,70.0]|  0.99|  13.2889333722149|\n",
      "|        [500.0,87.0]|  5.99| 13.28900291862541|\n",
      "|       [500.0,156.0]|  3.49|13.289285195232775|\n",
      "|        [1000.0,6.0]|  2.49|13.287469735274941|\n",
      "|       [1000.0,12.0]| 16.99|13.287494281066886|\n",
      "|       [1000.0,12.0]| 19.99|13.287494281066886|\n",
      "|       [1000.0,20.0]|  2.99|13.287527008789478|\n",
      "|       [1000.0,21.0]|  5.99|13.287531099754803|\n",
      "|       [1000.0,25.0]|  3.99|13.287547463616098|\n",
      "|       [1000.0,30.0]|  7.49| 13.28756791844272|\n",
      "|       [1000.0,33.0]|  3.99|13.287580191338693|\n",
      "|       [1000.0,33.0]|  4.99|13.287580191338693|\n",
      "|       [1000.0,35.0]|  3.99| 13.28758837326934|\n",
      "|       [1000.0,35.0]|  7.99| 13.28758837326934|\n",
      "|       [1000.0,35.0]| 15.46| 13.28758837326934|\n",
      "|       [1000.0,36.0]|  1.99|13.287592464234665|\n",
      "|       [1000.0,41.0]|  2.99|13.287612919061285|\n",
      "|       [1000.0,41.0]|379.99|13.287612919061285|\n",
      "|       [1000.0,47.0]|  4.99| 13.28763746485323|\n",
      "|       [1000.0,47.0]| 14.99| 13.28763746485323|\n",
      "|       [1000.0,51.0]| 29.99|13.287653828714527|\n",
      "|       [1000.0,53.0]|  1.49|13.287662010645175|\n",
      "|       [1000.0,60.0]|  0.99|13.287690647402444|\n",
      "|       [1000.0,60.0]|  3.99|13.287690647402444|\n",
      "|       [1000.0,62.0]|  0.99|13.287698829333092|\n",
      "|       [1000.0,79.0]|  3.99|13.287768375743601|\n",
      "|      [1000.0,104.0]|  2.99|13.287870649876705|\n",
      "|      [1000.0,112.0]|  0.99|13.287903377599298|\n",
      "|      [1000.0,112.0]|  7.99|13.287903377599298|\n",
      "|      [1000.0,117.0]|  0.99|13.287923832425918|\n",
      "|      [1000.0,129.0]|399.99|13.287972924009807|\n",
      "|      [1000.0,134.0]| 37.99|13.287993378836427|\n",
      "|      [1000.0,155.0]|  2.49|13.288079289108234|\n",
      "|      [1000.0,159.0]|  1.49|13.288095652969531|\n",
      "|      [1000.0,159.0]| 10.99|13.288095652969531|\n",
      "|      [1000.0,171.0]|  10.0| 13.28814474455342|\n",
      "|      [1000.0,185.0]|  4.99|13.288202018067958|\n",
      "|      [1000.0,197.0]|  2.99|13.288251109651847|\n",
      "|      [1000.0,206.0]|  4.99|13.288287928339765|\n",
      "|      [1000.0,214.0]| 33.99|13.288320656062357|\n",
      "|      [1000.0,787.0]|  1.99|13.290664779193078|\n",
      "|       [5000.0,45.0]|  3.99|13.278014761648848|\n",
      "|       [5000.0,80.0]| 14.99|13.278157945435192|\n",
      "|       [5000.0,89.0]|  0.99|13.278194764123109|\n",
      "|      [5000.0,143.0]|  0.99|13.278415676250612|\n",
      "|      [5000.0,161.0]|  0.99|13.278489313626446|\n",
      "|      [5000.0,166.0]|  4.99|13.278509768453066|\n",
      "+--------------------+------+------------------+\n",
      "only showing top 100 rows\n",
      "\n"
     ]
    }
   ],
   "source": [
    "pred_result.predictions.show(100)"
   ]
  },
  {
   "cell_type": "code",
   "execution_count": 186,
   "id": "317f937d",
   "metadata": {},
   "outputs": [
    {
     "data": {
      "text/plain": [
       "(17.557489267909922, 3064.510217516199)"
      ]
     },
     "execution_count": 186,
     "metadata": {},
     "output_type": "execute_result"
    }
   ],
   "source": [
    "pred_result.meanAbsoluteError, pred_result.meanSquaredError"
   ]
  },
  {
   "cell_type": "code",
   "execution_count": 188,
   "id": "6feaae9f",
   "metadata": {},
   "outputs": [
    {
     "data": {
      "text/plain": [
       "13.28984881980143"
      ]
     },
     "execution_count": 188,
     "metadata": {},
     "output_type": "execute_result"
    }
   ],
   "source": [
    "# Intercepts\n",
    "regressor.intercept"
   ]
  },
  {
   "cell_type": "code",
   "execution_count": null,
   "id": "007d692b",
   "metadata": {},
   "outputs": [],
   "source": []
  },
  {
   "cell_type": "code",
   "execution_count": null,
   "id": "42061719",
   "metadata": {},
   "outputs": [],
   "source": []
  }
 ],
 "metadata": {
  "kernelspec": {
   "display_name": "Python 3 (ipykernel)",
   "language": "python",
   "name": "python3"
  },
  "language_info": {
   "codemirror_mode": {
    "name": "ipython",
    "version": 3
   },
   "file_extension": ".py",
   "mimetype": "text/x-python",
   "name": "python",
   "nbconvert_exporter": "python",
   "pygments_lexer": "ipython3",
   "version": "3.9.12"
  }
 },
 "nbformat": 4,
 "nbformat_minor": 5
}
